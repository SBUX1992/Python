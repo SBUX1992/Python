{
 "cells": [
  {
   "cell_type": "code",
   "execution_count": 8,
   "metadata": {},
   "outputs": [
    {
     "name": "stdout",
     "output_type": "stream",
     "text": [
      "3\n"
     ]
    }
   ],
   "source": [
    "# 백준 14681\n",
    "# 2023-03-29\n",
    "\n",
    "x = int(input())\n",
    "y = int(input())\n",
    "\n",
    "\n",
    "if x > 0 and y > 0:\n",
    "    print(1)\n",
    "elif x < 0 and y > 0:\n",
    "    print(2)\n",
    "elif x < 0 and y < 0:\n",
    "    print(3)\n",
    "else:\n",
    "    print(4)\n",
    "\n",
    "\n",
    "\n",
    "    "
   ]
  },
  {
   "cell_type": "code",
   "execution_count": 5,
   "metadata": {},
   "outputs": [
    {
     "name": "stdout",
     "output_type": "stream",
     "text": [
      "4 * 1 = 4\n",
      "4 * 2 = 8\n",
      "4 * 3 = 12\n",
      "4 * 4 = 16\n",
      "4 * 5 = 20\n",
      "4 * 6 = 24\n",
      "4 * 7 = 28\n",
      "4 * 8 = 32\n",
      "4 * 9 = 36\n"
     ]
    }
   ],
   "source": [
    "# 백준 새싹 반복 구구단 2739\n",
    "# 2023-03-30\n",
    "n = int(input())\n",
    "\n",
    "for i in range(1,10):  # 1~9\n",
    "    print(n, '*', i, '=', n*i)"
   ]
  },
  {
   "cell_type": "code",
   "execution_count": null,
   "metadata": {},
   "outputs": [],
   "source": [
    "# 백준 새싹 반복 A+B-3 10950\n",
    "# 2023-03-30\n",
    "\n",
    "t = int(input())    # 테스트 케이스 개수 t를 입력받음\n",
    "for _ in range(t):  # t 만큼 반복\n",
    "    a, b = map(int, input().split())\n",
    "\n",
    "    print(a + b)\n",
    "\n",
    "\n"
   ]
  },
  {
   "cell_type": "code",
   "execution_count": 11,
   "metadata": {},
   "outputs": [
    {
     "name": "stdout",
     "output_type": "stream",
     "text": [
      "1\n"
     ]
    }
   ],
   "source": [
    "# 백준 새싹 반복 - 팩토리얼 10872\n",
    "# 2023-03-30\n",
    "# 참고\n",
    "# https://cocoon1787.tistory.com/59\n",
    "# https://dojang.io/mod/page/view.php?id=2353\n",
    "import math\n",
    "n = int(input())\n",
    "print(math.factorial(n))"
   ]
  },
  {
   "cell_type": "code",
   "execution_count": 35,
   "metadata": {},
   "outputs": [
    {
     "name": "stdout",
     "output_type": "stream",
     "text": [
      "2\n"
     ]
    }
   ],
   "source": [
    "# 백준 새싹 반복 A+B-5 10952\n",
    "# 2023-03-30\n",
    "while True:\n",
    "    a, b = map(int, input().split())\n",
    "    if a == 0 and b == 0:\n",
    "        break;\n",
    "    else:\n",
    "        print(a+b)\n"
   ]
  },
  {
   "cell_type": "code",
   "execution_count": 50,
   "metadata": {},
   "outputs": [
    {
     "name": "stdout",
     "output_type": "stream",
     "text": [
      "*\n",
      "**\n",
      "***\n",
      "****\n",
      "*****\n"
     ]
    }
   ],
   "source": [
    "# 백준 새싹 반복 별 찍기 -1 2438\n",
    "# 2023-03-30\n",
    "k = int(input())\n",
    "for i in range(1,(k+1)):\n",
    "    print(\"*\" * i)\n"
   ]
  },
  {
   "cell_type": "code",
   "execution_count": 51,
   "metadata": {},
   "outputs": [],
   "source": [
    "# 백준 새싹 반복 A+B-4 10951\n",
    "# 2023-03-30\n"
   ]
  },
  {
   "cell_type": "code",
   "execution_count": 57,
   "metadata": {},
   "outputs": [
    {
     "name": "stdout",
     "output_type": "stream",
     "text": [
      "65\n"
     ]
    }
   ],
   "source": [
    "# 백준 새싹 문자열 - 아스키코드 11654\n",
    "# 2023-03-30\n",
    "k = ord(input())\n",
    "print(k)"
   ]
  },
  {
   "cell_type": "code",
   "execution_count": 83,
   "metadata": {},
   "outputs": [
    {
     "name": "stdout",
     "output_type": "stream",
     "text": [
      "8\n"
     ]
    }
   ],
   "source": [
    "# 백준 새싹 문자열 - 단어 길이 재기 2743\n",
    "# 2023-03-30\n",
    "# pulljima\n",
    "\n",
    "print(len(input()))\n",
    "\n",
    "# text = input()\n",
    "# result = len(text)\n",
    "# print(result)\n"
   ]
  },
  {
   "cell_type": "code",
   "execution_count": 64,
   "metadata": {},
   "outputs": [
    {
     "name": "stdout",
     "output_type": "stream",
     "text": [
      "wRONGaNSWER\n"
     ]
    }
   ],
   "source": [
    "# 백준 새싹 문자열 - 대소문자 바꾸기 2744\n",
    "# 2023-03-30\n",
    "# WrongAnswer\n",
    "print(input().swapcase())\n"
   ]
  },
  {
   "cell_type": "code",
   "execution_count": 66,
   "metadata": {},
   "outputs": [
    {
     "name": "stdout",
     "output_type": "stream",
     "text": [
      "4.0\n"
     ]
    }
   ],
   "source": [
    "# 백준 새싹 문자열 - 학점계산 2754\n",
    "# 2023-03-30\n",
    "grade = input()\n",
    "if grade == \"A+\": print(4.3)\n",
    "elif grade == \"A0\": print(4.0)\n",
    "elif grade == \"A-\": print(3.7)\n",
    "elif grade == \"B+\": print(3.3)\n",
    "elif grade == \"B0\": print(3.0)\n",
    "elif grade == \"B-\": print(2.7)\n",
    "elif grade == \"C+\": print(2.3)\n",
    "elif grade == \"C0\": print(2.0)\n",
    "elif grade == \"C-\": print(1.7)\n",
    "elif grade == \"D+\": print(1.3)\n",
    "elif grade == \"D0\": print(1.0)\n",
    "elif grade == \"D-\": print(0.7)\n",
    "elif grade == \"F\": print(0.0)\n",
    "\n"
   ]
  },
  {
   "cell_type": "code",
   "execution_count": 81,
   "metadata": {},
   "outputs": [
    {
     "name": "stdout",
     "output_type": "stream",
     "text": [
      "r\n"
     ]
    }
   ],
   "source": [
    "# 백준 새싹 문자열 - 문자와 문자열 27866\n",
    "# 2023-03-30\n",
    "text = input()\n",
    "print(text[int(input())-1])"
   ]
  }
 ],
 "metadata": {
  "kernelspec": {
   "display_name": "Python 3",
   "language": "python",
   "name": "python3"
  },
  "language_info": {
   "codemirror_mode": {
    "name": "ipython",
    "version": 3
   },
   "file_extension": ".py",
   "mimetype": "text/x-python",
   "name": "python",
   "nbconvert_exporter": "python",
   "pygments_lexer": "ipython3",
   "version": "3.11.1"
  },
  "orig_nbformat": 4
 },
 "nbformat": 4,
 "nbformat_minor": 2
}
