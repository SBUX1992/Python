{
 "cells": [
  {
   "cell_type": "code",
   "execution_count": null,
   "metadata": {},
   "outputs": [],
   "source": [
    "\"\"\"\n",
    "날짜 : 2023-01-10\n",
    "이름 : 강중현\n",
    "내용 : 파이썬 함수 실습하기\n",
    "\"\"\""
   ]
  },
  {
   "cell_type": "code",
   "execution_count": 2,
   "metadata": {},
   "outputs": [
    {
     "name": "stdout",
     "output_type": "stream",
     "text": [
      "y1 :  5\n",
      "y2 :  7\n",
      "y3 :  9\n"
     ]
    }
   ],
   "source": [
    "# 함수\n",
    "def f(x):\n",
    "    y = 2 * x + 3\n",
    "    return y\n",
    "\n",
    "y1 = f(1)\n",
    "y2 = f(2)\n",
    "y3 = f(3)\n",
    "\n",
    "print('y1 : ', y1)\n",
    "print('y2 : ', y2)\n",
    "print('y3 : ', y3)"
   ]
  },
  {
   "cell_type": "code",
   "execution_count": 12,
   "metadata": {},
   "outputs": [
    {
     "ename": "TypeError",
     "evalue": "type2() takes 1 positional argument but 2 were given",
     "output_type": "error",
     "traceback": [
      "\u001b[1;31m---------------------------------------------------------------------------\u001b[0m",
      "\u001b[1;31mTypeError\u001b[0m                                 Traceback (most recent call last)",
      "Cell \u001b[1;32mIn[12], line 23\u001b[0m\n\u001b[0;32m     20\u001b[0m     \u001b[39mreturn\u001b[39;00m tot\n\u001b[0;32m     22\u001b[0m rs1 \u001b[39m=\u001b[39m type1(\u001b[39m1\u001b[39m, \u001b[39m2\u001b[39m)\n\u001b[1;32m---> 23\u001b[0m rs2 \u001b[39m=\u001b[39m type2(\u001b[39m'\u001b[39;49m\u001b[39mhello\u001b[39;49m\u001b[39m'\u001b[39;49m, \u001b[39m'\u001b[39;49m\u001b[39mworld\u001b[39;49m\u001b[39m'\u001b[39;49m)\n\u001b[0;32m     25\u001b[0m \u001b[39mprint\u001b[39m(\u001b[39m'\u001b[39m\u001b[39mrs1 : \u001b[39m\u001b[39m'\u001b[39m, rs1)\n\u001b[0;32m     26\u001b[0m \u001b[39mprint\u001b[39m(\u001b[39m'\u001b[39m\u001b[39mrs2 : \u001b[39m\u001b[39m'\u001b[39m, rs2)\n",
      "\u001b[1;31mTypeError\u001b[0m: type2() takes 1 positional argument but 2 were given"
     ]
    }
   ],
   "source": [
    "# 함수타입\n",
    "def type1(x, y):\n",
    "    z = x + y\n",
    "    return z\n",
    "\n",
    "def type2(dataset):\n",
    "    tot = 0\n",
    "    for data in dataset:\n",
    "        tot += data\n",
    "    print('dataset 합 : ', tot)\n",
    "\n",
    "def type3():\n",
    "    dataset = [n for n in range(11)]\n",
    "\n",
    "    tot = 0\n",
    "\n",
    "    for k in dataset:\n",
    "        tot += k\n",
    "    \n",
    "    return tot\n",
    "\n",
    "rs1 = type1(1, 2)\n",
    "rs2 = type2('hello', 'world')\n",
    "\n",
    "print('rs1 : ', rs1)\n",
    "print('rs2 : ', rs2)\n",
    "\n",
    "type2([1,2,3,4,5])\n",
    "type2((1,2,3,4,5))\n",
    "\n",
    "total = type3()\n",
    "print('total : ', total)\n"
   ]
  },
  {
   "cell_type": "code",
   "execution_count": 9,
   "metadata": {},
   "outputs": [
    {
     "name": "stdout",
     "output_type": "stream",
     "text": [
      "name :  홍길동\n",
      "age :  20\n",
      "name :  김유신\n",
      "age :  20\n",
      "name :  김춘추\n",
      "age :  21\n"
     ]
    }
   ],
   "source": [
    "# 디폴트 매개변수\n",
    "def hello(name='홍길동', age=20):\n",
    "    print('name : ', name)\n",
    "    print('age : ', age)\n",
    "\n",
    "hello()\n",
    "hello('김유신')\n",
    "hello('김춘추', 21)"
   ]
  },
  {
   "cell_type": "code",
   "execution_count": 13,
   "metadata": {},
   "outputs": [
    {
     "name": "stdout",
     "output_type": "stream",
     "text": [
      "rs1 :  1\n",
      "rs2 :  3\n",
      "rs3 :  6\n",
      "rs4 :  10\n",
      "rs5 :  15\n"
     ]
    }
   ],
   "source": [
    "# 가변 매개변수\n",
    "def total(*item):\n",
    "    tot = 0\n",
    "\n",
    "    for i in item:\n",
    "        tot += i\n",
    "    \n",
    "    return tot\n",
    "\n",
    "rs1 = total(1)\n",
    "rs2 = total(1, 2)\n",
    "rs3 = total(1, 2, 3)\n",
    "rs4 = total(1, 2, 3, 4)\n",
    "rs5 = total(1, 2, 3, 4, 5)\n",
    "\n",
    "print('rs1 : ', rs1)\n",
    "print('rs2 : ', rs2)\n",
    "print('rs3 : ', rs3)\n",
    "print('rs4 : ', rs4)\n",
    "print('rs5 : ', rs5)"
   ]
  },
  {
   "cell_type": "code",
   "execution_count": 15,
   "metadata": {},
   "outputs": [
    {
     "name": "stdout",
     "output_type": "stream",
     "text": [
      "r1 :  5\n",
      "r2 :  6\n"
     ]
    }
   ],
   "source": [
    "# 하나 이상 리턴값을 갖는 함수\n",
    "def sumMulti(x, y):\n",
    "    y1 = x + y\n",
    "    y2 = x * y\n",
    "\n",
    "    return y1, y2\n",
    "\n",
    "r1, r2 = sumMulti(2, 3)\n",
    "\n",
    "print('r1 : ', r1)\n",
    "print('r2 : ', r2)\n",
    "\n"
   ]
  },
  {
   "cell_type": "code",
   "execution_count": 18,
   "metadata": {},
   "outputs": [
    {
     "name": "stdout",
     "output_type": "stream",
     "text": [
      "r1 :  3\n",
      "r2 :  -1\n",
      "y1 :  5\n",
      "y2 :  2\n"
     ]
    }
   ],
   "source": [
    "# 변수에 저장하는 함수\n",
    "def plus(x, y):\n",
    "    return x + y\n",
    "def minus(x, y):\n",
    "    return x - y\n",
    "\n",
    "var1 = plus\n",
    "var2 = minus\n",
    "\n",
    "r1 = var1(1, 2)\n",
    "r2 = var2(2, 3)\n",
    "\n",
    "print('r1 : ', r1)\n",
    "print('r2 : ', r2)\n",
    "\n",
    "defs = [plus, minus]\n",
    "y1 = defs[0](2, 3)\n",
    "y2 = defs[1](3, 1)\n",
    "\n",
    "print('y1 : ', y1)\n",
    "print('y2 : ', y2)"
   ]
  },
  {
   "cell_type": "code",
   "execution_count": 19,
   "metadata": {},
   "outputs": [
    {
     "name": "stdout",
     "output_type": "stream",
     "text": [
      "r1 :  3\n",
      "r2 :  -1\n"
     ]
    }
   ],
   "source": [
    "# 람다함수\n",
    "lamb1 = lambda x, y : x + y\n",
    "lamb2 = lambda x, y : x - y\n",
    "\n",
    "r1 = lamb1(1, 2)\n",
    "r2 = lamb2(1, 2)\n",
    "\n",
    "print('r1 : ', r1)\n",
    "print('r2 : ', r2)"
   ]
  }
 ],
 "metadata": {
  "kernelspec": {
   "display_name": "Python 3",
   "language": "python",
   "name": "python3"
  },
  "language_info": {
   "codemirror_mode": {
    "name": "ipython",
    "version": 3
   },
   "file_extension": ".py",
   "mimetype": "text/x-python",
   "name": "python",
   "nbconvert_exporter": "python",
   "pygments_lexer": "ipython3",
   "version": "3.11.1 (tags/v3.11.1:a7a450f, Dec  6 2022, 19:58:39) [MSC v.1934 64 bit (AMD64)]"
  },
  "orig_nbformat": 4,
  "vscode": {
   "interpreter": {
    "hash": "ca3167030a8377a7b82d5e665b459d458267ba920e721652be188ae573e682bb"
   }
  }
 },
 "nbformat": 4,
 "nbformat_minor": 2
}
